{
 "cells": [
  {
   "cell_type": "code",
   "execution_count": 6,
   "metadata": {},
   "outputs": [
    {
     "name": "stderr",
     "output_type": "stream",
     "text": [
      "/var/folders/b0/9cyvb6kx2d9btjzmzv24pf9w0000gp/T/ipykernel_74131/3019491053.py:3: DtypeWarning: Columns (24,25,26,31,34,36,43,44,49,50,51,52,53,57,61,63,64,65,66,67,68,69,70,72,74,76,77,78,79,81,82,84,85,86,87,88,89,90,91,92,93,94,95,98,99,100,102,104,106,107,108,109,110,111,113,114,115,116,117,118,119,120,121,122,123,124,125,127,128,129,130,131,132,133,134,137,138,139,140,141,142,143,145,146,148,149,151,152,153,154,155,156,157,162,163,164,165,166,167,168,169,170,171,172,173,174,175,177,178,179,180,183,184,185,186,187,188,189,190,191,192,193,194,216,231,298,300,302,307,328,336,337,342,350,358,381,394,421,428,435,436,437,438,439,440,441,450,451,452,480,498,509,510,512,513,514,515,516,525,536,560,575,581,589,603,625,627,638,664,681,686,694,695,697,698,712,715,735,740,748,749,750,755,757,868,869,870,871,872,873,881,887,889,890,894,895,898,915,916,942,943,944,945,946,947,948,949,950,951,952,953,954,955) have mixed types. Specify dtype option on import or set low_memory=False.\n",
      "  issues = pd.read_csv(\"EXPORT/final_file.csv\")\n"
     ]
    },
    {
     "data": {
      "text/plain": [
       "Issue key      4519\n",
       "Summary        4519\n",
       "Description    2981\n",
       "dtype: int64"
      ]
     },
     "execution_count": 6,
     "metadata": {},
     "output_type": "execute_result"
    }
   ],
   "source": [
    "import pandas as pd\n",
    "\n",
    "issues = pd.read_csv(\"EXPORT/final_file.csv\")\n",
    "\n",
    "issues_filtered = issues[[\"Issue key\", \"Summary\", \"Description\"]]"
   ]
  }
 ],
 "metadata": {
  "kernelspec": {
   "display_name": "venv",
   "language": "python",
   "name": "python3"
  },
  "language_info": {
   "codemirror_mode": {
    "name": "ipython",
    "version": 3
   },
   "file_extension": ".py",
   "mimetype": "text/x-python",
   "name": "python",
   "nbconvert_exporter": "python",
   "pygments_lexer": "ipython3",
   "version": "3.12.2"
  }
 },
 "nbformat": 4,
 "nbformat_minor": 2
}
